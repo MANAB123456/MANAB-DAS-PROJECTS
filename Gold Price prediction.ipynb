{
 "cells": [
  {
   "cell_type": "code",
   "execution_count": 3,
   "id": "c1ddf28e",
   "metadata": {},
   "outputs": [],
   "source": [
    "import numpy as np\n",
    "import pandas as pd\n",
    "import matplotlib.pyplot as plt\n",
    "import seaborn as sns\n"
   ]
  },
  {
   "cell_type": "code",
   "execution_count": 4,
   "id": "d9403168",
   "metadata": {},
   "outputs": [],
   "source": [
    "gold=pd.read_csv(\"gld_price_data.csv\")"
   ]
  },
  {
   "cell_type": "code",
   "execution_count": 5,
   "id": "6f5c917e",
   "metadata": {},
   "outputs": [
    {
     "data": {
      "text/html": [
       "<div>\n",
       "<style scoped>\n",
       "    .dataframe tbody tr th:only-of-type {\n",
       "        vertical-align: middle;\n",
       "    }\n",
       "\n",
       "    .dataframe tbody tr th {\n",
       "        vertical-align: top;\n",
       "    }\n",
       "\n",
       "    .dataframe thead th {\n",
       "        text-align: right;\n",
       "    }\n",
       "</style>\n",
       "<table border=\"1\" class=\"dataframe\">\n",
       "  <thead>\n",
       "    <tr style=\"text-align: right;\">\n",
       "      <th></th>\n",
       "      <th>Date</th>\n",
       "      <th>SPX</th>\n",
       "      <th>GLD</th>\n",
       "      <th>USO</th>\n",
       "      <th>SLV</th>\n",
       "      <th>EUR/USD</th>\n",
       "    </tr>\n",
       "  </thead>\n",
       "  <tbody>\n",
       "    <tr>\n",
       "      <th>0</th>\n",
       "      <td>1/2/2008</td>\n",
       "      <td>1447.160034</td>\n",
       "      <td>84.860001</td>\n",
       "      <td>78.470001</td>\n",
       "      <td>15.180</td>\n",
       "      <td>1.471692</td>\n",
       "    </tr>\n",
       "    <tr>\n",
       "      <th>1</th>\n",
       "      <td>1/3/2008</td>\n",
       "      <td>1447.160034</td>\n",
       "      <td>85.570000</td>\n",
       "      <td>78.370003</td>\n",
       "      <td>15.285</td>\n",
       "      <td>1.474491</td>\n",
       "    </tr>\n",
       "    <tr>\n",
       "      <th>2</th>\n",
       "      <td>1/4/2008</td>\n",
       "      <td>1411.630005</td>\n",
       "      <td>85.129997</td>\n",
       "      <td>77.309998</td>\n",
       "      <td>15.167</td>\n",
       "      <td>1.475492</td>\n",
       "    </tr>\n",
       "    <tr>\n",
       "      <th>3</th>\n",
       "      <td>1/7/2008</td>\n",
       "      <td>1416.180054</td>\n",
       "      <td>84.769997</td>\n",
       "      <td>75.500000</td>\n",
       "      <td>15.053</td>\n",
       "      <td>1.468299</td>\n",
       "    </tr>\n",
       "    <tr>\n",
       "      <th>4</th>\n",
       "      <td>1/8/2008</td>\n",
       "      <td>1390.189941</td>\n",
       "      <td>86.779999</td>\n",
       "      <td>76.059998</td>\n",
       "      <td>15.590</td>\n",
       "      <td>1.557099</td>\n",
       "    </tr>\n",
       "  </tbody>\n",
       "</table>\n",
       "</div>"
      ],
      "text/plain": [
       "       Date          SPX        GLD        USO     SLV   EUR/USD\n",
       "0  1/2/2008  1447.160034  84.860001  78.470001  15.180  1.471692\n",
       "1  1/3/2008  1447.160034  85.570000  78.370003  15.285  1.474491\n",
       "2  1/4/2008  1411.630005  85.129997  77.309998  15.167  1.475492\n",
       "3  1/7/2008  1416.180054  84.769997  75.500000  15.053  1.468299\n",
       "4  1/8/2008  1390.189941  86.779999  76.059998  15.590  1.557099"
      ]
     },
     "execution_count": 5,
     "metadata": {},
     "output_type": "execute_result"
    }
   ],
   "source": [
    "gold.head()"
   ]
  },
  {
   "cell_type": "code",
   "execution_count": 6,
   "id": "0ff2725a",
   "metadata": {},
   "outputs": [
    {
     "data": {
      "text/html": [
       "<div>\n",
       "<style scoped>\n",
       "    .dataframe tbody tr th:only-of-type {\n",
       "        vertical-align: middle;\n",
       "    }\n",
       "\n",
       "    .dataframe tbody tr th {\n",
       "        vertical-align: top;\n",
       "    }\n",
       "\n",
       "    .dataframe thead th {\n",
       "        text-align: right;\n",
       "    }\n",
       "</style>\n",
       "<table border=\"1\" class=\"dataframe\">\n",
       "  <thead>\n",
       "    <tr style=\"text-align: right;\">\n",
       "      <th></th>\n",
       "      <th>Date</th>\n",
       "      <th>SPX</th>\n",
       "      <th>GLD</th>\n",
       "      <th>USO</th>\n",
       "      <th>SLV</th>\n",
       "      <th>EUR/USD</th>\n",
       "    </tr>\n",
       "  </thead>\n",
       "  <tbody>\n",
       "    <tr>\n",
       "      <th>0</th>\n",
       "      <td>1/2/2008</td>\n",
       "      <td>1447.160034</td>\n",
       "      <td>84.860001</td>\n",
       "      <td>78.470001</td>\n",
       "      <td>15.1800</td>\n",
       "      <td>1.471692</td>\n",
       "    </tr>\n",
       "    <tr>\n",
       "      <th>1</th>\n",
       "      <td>1/3/2008</td>\n",
       "      <td>1447.160034</td>\n",
       "      <td>85.570000</td>\n",
       "      <td>78.370003</td>\n",
       "      <td>15.2850</td>\n",
       "      <td>1.474491</td>\n",
       "    </tr>\n",
       "    <tr>\n",
       "      <th>2</th>\n",
       "      <td>1/4/2008</td>\n",
       "      <td>1411.630005</td>\n",
       "      <td>85.129997</td>\n",
       "      <td>77.309998</td>\n",
       "      <td>15.1670</td>\n",
       "      <td>1.475492</td>\n",
       "    </tr>\n",
       "    <tr>\n",
       "      <th>3</th>\n",
       "      <td>1/7/2008</td>\n",
       "      <td>1416.180054</td>\n",
       "      <td>84.769997</td>\n",
       "      <td>75.500000</td>\n",
       "      <td>15.0530</td>\n",
       "      <td>1.468299</td>\n",
       "    </tr>\n",
       "    <tr>\n",
       "      <th>4</th>\n",
       "      <td>1/8/2008</td>\n",
       "      <td>1390.189941</td>\n",
       "      <td>86.779999</td>\n",
       "      <td>76.059998</td>\n",
       "      <td>15.5900</td>\n",
       "      <td>1.557099</td>\n",
       "    </tr>\n",
       "    <tr>\n",
       "      <th>...</th>\n",
       "      <td>...</td>\n",
       "      <td>...</td>\n",
       "      <td>...</td>\n",
       "      <td>...</td>\n",
       "      <td>...</td>\n",
       "      <td>...</td>\n",
       "    </tr>\n",
       "    <tr>\n",
       "      <th>2285</th>\n",
       "      <td>5/8/2018</td>\n",
       "      <td>2671.919922</td>\n",
       "      <td>124.589996</td>\n",
       "      <td>14.060000</td>\n",
       "      <td>15.5100</td>\n",
       "      <td>1.186789</td>\n",
       "    </tr>\n",
       "    <tr>\n",
       "      <th>2286</th>\n",
       "      <td>5/9/2018</td>\n",
       "      <td>2697.790039</td>\n",
       "      <td>124.330002</td>\n",
       "      <td>14.370000</td>\n",
       "      <td>15.5300</td>\n",
       "      <td>1.184722</td>\n",
       "    </tr>\n",
       "    <tr>\n",
       "      <th>2287</th>\n",
       "      <td>5/10/2018</td>\n",
       "      <td>2723.070068</td>\n",
       "      <td>125.180000</td>\n",
       "      <td>14.410000</td>\n",
       "      <td>15.7400</td>\n",
       "      <td>1.191753</td>\n",
       "    </tr>\n",
       "    <tr>\n",
       "      <th>2288</th>\n",
       "      <td>5/14/2018</td>\n",
       "      <td>2730.129883</td>\n",
       "      <td>124.489998</td>\n",
       "      <td>14.380000</td>\n",
       "      <td>15.5600</td>\n",
       "      <td>1.193118</td>\n",
       "    </tr>\n",
       "    <tr>\n",
       "      <th>2289</th>\n",
       "      <td>5/16/2018</td>\n",
       "      <td>2725.780029</td>\n",
       "      <td>122.543800</td>\n",
       "      <td>14.405800</td>\n",
       "      <td>15.4542</td>\n",
       "      <td>1.182033</td>\n",
       "    </tr>\n",
       "  </tbody>\n",
       "</table>\n",
       "<p>2290 rows × 6 columns</p>\n",
       "</div>"
      ],
      "text/plain": [
       "           Date          SPX         GLD        USO      SLV   EUR/USD\n",
       "0      1/2/2008  1447.160034   84.860001  78.470001  15.1800  1.471692\n",
       "1      1/3/2008  1447.160034   85.570000  78.370003  15.2850  1.474491\n",
       "2      1/4/2008  1411.630005   85.129997  77.309998  15.1670  1.475492\n",
       "3      1/7/2008  1416.180054   84.769997  75.500000  15.0530  1.468299\n",
       "4      1/8/2008  1390.189941   86.779999  76.059998  15.5900  1.557099\n",
       "...         ...          ...         ...        ...      ...       ...\n",
       "2285   5/8/2018  2671.919922  124.589996  14.060000  15.5100  1.186789\n",
       "2286   5/9/2018  2697.790039  124.330002  14.370000  15.5300  1.184722\n",
       "2287  5/10/2018  2723.070068  125.180000  14.410000  15.7400  1.191753\n",
       "2288  5/14/2018  2730.129883  124.489998  14.380000  15.5600  1.193118\n",
       "2289  5/16/2018  2725.780029  122.543800  14.405800  15.4542  1.182033\n",
       "\n",
       "[2290 rows x 6 columns]"
      ]
     },
     "execution_count": 6,
     "metadata": {},
     "output_type": "execute_result"
    }
   ],
   "source": [
    "gold"
   ]
  },
  {
   "cell_type": "code",
   "execution_count": 8,
   "id": "ee3e9292",
   "metadata": {},
   "outputs": [
    {
     "data": {
      "text/plain": [
       "(2290, 6)"
      ]
     },
     "execution_count": 8,
     "metadata": {},
     "output_type": "execute_result"
    }
   ],
   "source": [
    "gold.shape"
   ]
  },
  {
   "cell_type": "code",
   "execution_count": 9,
   "id": "dd8a44f3",
   "metadata": {},
   "outputs": [
    {
     "name": "stdout",
     "output_type": "stream",
     "text": [
      "<class 'pandas.core.frame.DataFrame'>\n",
      "RangeIndex: 2290 entries, 0 to 2289\n",
      "Data columns (total 6 columns):\n",
      " #   Column   Non-Null Count  Dtype  \n",
      "---  ------   --------------  -----  \n",
      " 0   Date     2290 non-null   object \n",
      " 1   SPX      2290 non-null   float64\n",
      " 2   GLD      2290 non-null   float64\n",
      " 3   USO      2290 non-null   float64\n",
      " 4   SLV      2290 non-null   float64\n",
      " 5   EUR/USD  2290 non-null   float64\n",
      "dtypes: float64(5), object(1)\n",
      "memory usage: 107.5+ KB\n"
     ]
    }
   ],
   "source": [
    "gold.info()"
   ]
  },
  {
   "cell_type": "code",
   "execution_count": 10,
   "id": "1859fa30",
   "metadata": {},
   "outputs": [
    {
     "data": {
      "text/plain": [
       "Date       0\n",
       "SPX        0\n",
       "GLD        0\n",
       "USO        0\n",
       "SLV        0\n",
       "EUR/USD    0\n",
       "dtype: int64"
      ]
     },
     "execution_count": 10,
     "metadata": {},
     "output_type": "execute_result"
    }
   ],
   "source": [
    "gold.isnull().sum()"
   ]
  },
  {
   "cell_type": "code",
   "execution_count": 11,
   "id": "cb429108",
   "metadata": {},
   "outputs": [
    {
     "data": {
      "text/html": [
       "<div>\n",
       "<style scoped>\n",
       "    .dataframe tbody tr th:only-of-type {\n",
       "        vertical-align: middle;\n",
       "    }\n",
       "\n",
       "    .dataframe tbody tr th {\n",
       "        vertical-align: top;\n",
       "    }\n",
       "\n",
       "    .dataframe thead th {\n",
       "        text-align: right;\n",
       "    }\n",
       "</style>\n",
       "<table border=\"1\" class=\"dataframe\">\n",
       "  <thead>\n",
       "    <tr style=\"text-align: right;\">\n",
       "      <th></th>\n",
       "      <th>SPX</th>\n",
       "      <th>GLD</th>\n",
       "      <th>USO</th>\n",
       "      <th>SLV</th>\n",
       "      <th>EUR/USD</th>\n",
       "    </tr>\n",
       "  </thead>\n",
       "  <tbody>\n",
       "    <tr>\n",
       "      <th>count</th>\n",
       "      <td>2290.000000</td>\n",
       "      <td>2290.000000</td>\n",
       "      <td>2290.000000</td>\n",
       "      <td>2290.000000</td>\n",
       "      <td>2290.000000</td>\n",
       "    </tr>\n",
       "    <tr>\n",
       "      <th>mean</th>\n",
       "      <td>1654.315776</td>\n",
       "      <td>122.732875</td>\n",
       "      <td>31.842221</td>\n",
       "      <td>20.084997</td>\n",
       "      <td>1.283653</td>\n",
       "    </tr>\n",
       "    <tr>\n",
       "      <th>std</th>\n",
       "      <td>519.111540</td>\n",
       "      <td>23.283346</td>\n",
       "      <td>19.523517</td>\n",
       "      <td>7.092566</td>\n",
       "      <td>0.131547</td>\n",
       "    </tr>\n",
       "    <tr>\n",
       "      <th>min</th>\n",
       "      <td>676.530029</td>\n",
       "      <td>70.000000</td>\n",
       "      <td>7.960000</td>\n",
       "      <td>8.850000</td>\n",
       "      <td>1.039047</td>\n",
       "    </tr>\n",
       "    <tr>\n",
       "      <th>25%</th>\n",
       "      <td>1239.874969</td>\n",
       "      <td>109.725000</td>\n",
       "      <td>14.380000</td>\n",
       "      <td>15.570000</td>\n",
       "      <td>1.171313</td>\n",
       "    </tr>\n",
       "    <tr>\n",
       "      <th>50%</th>\n",
       "      <td>1551.434998</td>\n",
       "      <td>120.580002</td>\n",
       "      <td>33.869999</td>\n",
       "      <td>17.268500</td>\n",
       "      <td>1.303297</td>\n",
       "    </tr>\n",
       "    <tr>\n",
       "      <th>75%</th>\n",
       "      <td>2073.010070</td>\n",
       "      <td>132.840004</td>\n",
       "      <td>37.827501</td>\n",
       "      <td>22.882500</td>\n",
       "      <td>1.369971</td>\n",
       "    </tr>\n",
       "    <tr>\n",
       "      <th>max</th>\n",
       "      <td>2872.870117</td>\n",
       "      <td>184.589996</td>\n",
       "      <td>117.480003</td>\n",
       "      <td>47.259998</td>\n",
       "      <td>1.598798</td>\n",
       "    </tr>\n",
       "  </tbody>\n",
       "</table>\n",
       "</div>"
      ],
      "text/plain": [
       "               SPX          GLD          USO          SLV      EUR/USD\n",
       "count  2290.000000  2290.000000  2290.000000  2290.000000  2290.000000\n",
       "mean   1654.315776   122.732875    31.842221    20.084997     1.283653\n",
       "std     519.111540    23.283346    19.523517     7.092566     0.131547\n",
       "min     676.530029    70.000000     7.960000     8.850000     1.039047\n",
       "25%    1239.874969   109.725000    14.380000    15.570000     1.171313\n",
       "50%    1551.434998   120.580002    33.869999    17.268500     1.303297\n",
       "75%    2073.010070   132.840004    37.827501    22.882500     1.369971\n",
       "max    2872.870117   184.589996   117.480003    47.259998     1.598798"
      ]
     },
     "execution_count": 11,
     "metadata": {},
     "output_type": "execute_result"
    }
   ],
   "source": [
    "gold.describe()"
   ]
  },
  {
   "cell_type": "code",
   "execution_count": 18,
   "id": "0ac6777a",
   "metadata": {},
   "outputs": [
    {
     "data": {
      "text/plain": [
       "SPX        0.049345\n",
       "GLD        1.000000\n",
       "USO       -0.186360\n",
       "SLV        0.866632\n",
       "EUR/USD   -0.024375\n",
       "Name: GLD, dtype: float64"
      ]
     },
     "execution_count": 18,
     "metadata": {},
     "output_type": "execute_result"
    }
   ],
   "source": [
    "gold.corr()[\"GLD\"]"
   ]
  },
  {
   "cell_type": "code",
   "execution_count": 17,
   "id": "92351cc8",
   "metadata": {},
   "outputs": [
    {
     "data": {
      "text/plain": [
       "1.437298    4\n",
       "1.322401    3\n",
       "1.285843    3\n",
       "1.088898    3\n",
       "1.578507    3\n",
       "           ..\n",
       "1.423427    1\n",
       "1.396902    1\n",
       "1.404060    1\n",
       "1.436451    1\n",
       "1.182033    1\n",
       "Name: EUR/USD, Length: 2066, dtype: int64"
      ]
     },
     "execution_count": 17,
     "metadata": {},
     "output_type": "execute_result"
    }
   ],
   "source": [
    "gold['EUR/USD'].value_counts()"
   ]
  },
  {
   "cell_type": "code",
   "execution_count": 19,
   "id": "b4c12c5d",
   "metadata": {},
   "outputs": [
    {
     "data": {
      "text/plain": [
       "<AxesSubplot:xlabel='Date', ylabel='GLD'>"
      ]
     },
     "execution_count": 19,
     "metadata": {},
     "output_type": "execute_result"
    },
    {
     "data": {
      "image/png": "[encoded data removed]",
      "text/plain": [
       "<Figure size 432x288 with 1 Axes>"
      ]
     },
     "metadata": {
      "needs_background": "light"
     },
     "output_type": "display_data"
    }
   ],
   "source": [
    "sns.barplot(x=gold['Date'],y=gold['GLD'])"
   ]
  },
  {
   "cell_type": "code",
   "execution_count": 20,
   "id": "4c159d5f",
   "metadata": {},
   "outputs": [],
   "source": [
    "correlation=gold.corr()"
   ]
  },
  {
   "cell_type": "code",
   "execution_count": 24,
   "id": "927b51ce",
   "metadata": {},
   "outputs": [
    {
     "data": {
      "text/plain": [
       "<AxesSubplot:>"
      ]
     },
     "execution_count": 24,
     "metadata": {},
     "output_type": "execute_result"
    },
    {
     "data": {
      "image/png": "[encoded data removed]",
      "text/plain": [
       "<Figure size 576x576 with 2 Axes>"
      ]
     },
     "metadata": {
      "needs_background": "light"
     },
     "output_type": "display_data"
    }
   ],
   "source": [
    "plt.figure(figsize=(8,8))\n",
    "sns.heatmap(correlation,cbar=True,square=True,annot=True,cmap='Blues')"
   ]
  },
  {
   "cell_type": "code",
   "execution_count": 25,
   "id": "833b0846",
   "metadata": {},
   "outputs": [
    {
     "name": "stderr",
     "output_type": "stream",
     "text": [
      "C:\\anaconda\\lib\\site-packages\\seaborn\\distributions.py:2619: FutureWarning: `distplot` is a deprecated function and will be removed in a future version. Please adapt your code to use either `displot` (a figure-level function with similar flexibility) or `histplot` (an axes-level function for histograms).\n",
      "  warnings.warn(msg, FutureWarning)\n"
     ]
    },
    {
     "data": {
      "text/plain": [
       "<AxesSubplot:xlabel='GLD', ylabel='Density'>"
      ]
     },
     "execution_count": 25,
     "metadata": {},
     "output_type": "execute_result"
    },
    {
     "data": {
      "image/png": "[encoded data removed]",
      "text/plain": [
       "<Figure size 432x288 with 1 Axes>"
      ]
     },
     "metadata": {
      "needs_background": "light"
     },
     "output_type": "display_data"
    }
   ],
   "source": [
    "sns.distplot(gold['GLD'])"
   ]
  },
  {
   "cell_type": "code",
   "execution_count": 27,
   "id": "451bb0e5",
   "metadata": {},
   "outputs": [],
   "source": [
    "x=gold.drop(['Date','GLD'],axis=1)\n",
    "y=gold['GLD']"
   ]
  },
  {
   "cell_type": "code",
   "execution_count": 28,
   "id": "63d5c2f6",
   "metadata": {},
   "outputs": [
    {
     "data": {
      "text/html": [
       "<div>\n",
       "<style scoped>\n",
       "    .dataframe tbody tr th:only-of-type {\n",
       "        vertical-align: middle;\n",
       "    }\n",
       "\n",
       "    .dataframe tbody tr th {\n",
       "        vertical-align: top;\n",
       "    }\n",
       "\n",
       "    .dataframe thead th {\n",
       "        text-align: right;\n",
       "    }\n",
       "</style>\n",
       "<table border=\"1\" class=\"dataframe\">\n",
       "  <thead>\n",
       "    <tr style=\"text-align: right;\">\n",
       "      <th></th>\n",
       "      <th>SPX</th>\n",
       "      <th>USO</th>\n",
       "      <th>SLV</th>\n",
       "      <th>EUR/USD</th>\n",
       "    </tr>\n",
       "  </thead>\n",
       "  <tbody>\n",
       "    <tr>\n",
       "      <th>0</th>\n",
       "      <td>1447.160034</td>\n",
       "      <td>78.470001</td>\n",
       "      <td>15.1800</td>\n",
       "      <td>1.471692</td>\n",
       "    </tr>\n",
       "    <tr>\n",
       "      <th>1</th>\n",
       "      <td>1447.160034</td>\n",
       "      <td>78.370003</td>\n",
       "      <td>15.2850</td>\n",
       "      <td>1.474491</td>\n",
       "    </tr>\n",
       "    <tr>\n",
       "      <th>2</th>\n",
       "      <td>1411.630005</td>\n",
       "      <td>77.309998</td>\n",
       "      <td>15.1670</td>\n",
       "      <td>1.475492</td>\n",
       "    </tr>\n",
       "    <tr>\n",
       "      <th>3</th>\n",
       "      <td>1416.180054</td>\n",
       "      <td>75.500000</td>\n",
       "      <td>15.0530</td>\n",
       "      <td>1.468299</td>\n",
       "    </tr>\n",
       "    <tr>\n",
       "      <th>4</th>\n",
       "      <td>1390.189941</td>\n",
       "      <td>76.059998</td>\n",
       "      <td>15.5900</td>\n",
       "      <td>1.557099</td>\n",
       "    </tr>\n",
       "    <tr>\n",
       "      <th>...</th>\n",
       "      <td>...</td>\n",
       "      <td>...</td>\n",
       "      <td>...</td>\n",
       "      <td>...</td>\n",
       "    </tr>\n",
       "    <tr>\n",
       "      <th>2285</th>\n",
       "      <td>2671.919922</td>\n",
       "      <td>14.060000</td>\n",
       "      <td>15.5100</td>\n",
       "      <td>1.186789</td>\n",
       "    </tr>\n",
       "    <tr>\n",
       "      <th>2286</th>\n",
       "      <td>2697.790039</td>\n",
       "      <td>14.370000</td>\n",
       "      <td>15.5300</td>\n",
       "      <td>1.184722</td>\n",
       "    </tr>\n",
       "    <tr>\n",
       "      <th>2287</th>\n",
       "      <td>2723.070068</td>\n",
       "      <td>14.410000</td>\n",
       "      <td>15.7400</td>\n",
       "      <td>1.191753</td>\n",
       "    </tr>\n",
       "    <tr>\n",
       "      <th>2288</th>\n",
       "      <td>2730.129883</td>\n",
       "      <td>14.380000</td>\n",
       "      <td>15.5600</td>\n",
       "      <td>1.193118</td>\n",
       "    </tr>\n",
       "    <tr>\n",
       "      <th>2289</th>\n",
       "      <td>2725.780029</td>\n",
       "      <td>14.405800</td>\n",
       "      <td>15.4542</td>\n",
       "      <td>1.182033</td>\n",
       "    </tr>\n",
       "  </tbody>\n",
       "</table>\n",
       "<p>2290 rows × 4 columns</p>\n",
       "</div>"
      ],
      "text/plain": [
       "              SPX        USO      SLV   EUR/USD\n",
       "0     1447.160034  78.470001  15.1800  1.471692\n",
       "1     1447.160034  78.370003  15.2850  1.474491\n",
       "2     1411.630005  77.309998  15.1670  1.475492\n",
       "3     1416.180054  75.500000  15.0530  1.468299\n",
       "4     1390.189941  76.059998  15.5900  1.557099\n",
       "...           ...        ...      ...       ...\n",
       "2285  2671.919922  14.060000  15.5100  1.186789\n",
       "2286  2697.790039  14.370000  15.5300  1.184722\n",
       "2287  2723.070068  14.410000  15.7400  1.191753\n",
       "2288  2730.129883  14.380000  15.5600  1.193118\n",
       "2289  2725.780029  14.405800  15.4542  1.182033\n",
       "\n",
       "[2290 rows x 4 columns]"
      ]
     },
     "execution_count": 28,
     "metadata": {},
     "output_type": "execute_result"
    }
   ],
   "source": [
    "x"
   ]
  },
  {
   "cell_type": "code",
   "execution_count": 29,
   "id": "5c6c8658",
   "metadata": {},
   "outputs": [],
   "source": [
    "from sklearn.model_selection import train_test_split\n",
    "x_train,x_test,y_train,y_test=train_test_split(x,y,test_size=0.2,random_state=2)"
   ]
  },
  {
   "cell_type": "code",
   "execution_count": 31,
   "id": "ea83ec0e",
   "metadata": {},
   "outputs": [],
   "source": [
    "from sklearn.ensemble import RandomForestRegressor\n",
    "from sklearn import metrics"
   ]
  },
  {
   "cell_type": "code",
   "execution_count": 32,
   "id": "63f0d488",
   "metadata": {},
   "outputs": [],
   "source": [
    "regrissior=RandomForestRegressor(n_estimators=100)"
   ]
  },
  {
   "cell_type": "code",
   "execution_count": 33,
   "id": "f3abef74",
   "metadata": {},
   "outputs": [
    {
     "data": {
      "text/plain": [
       "RandomForestRegressor()"
      ]
     },
     "execution_count": 33,
     "metadata": {},
     "output_type": "execute_result"
    }
   ],
   "source": [
    "regrissior.fit(x_train,y_train)"
   ]
  },
  {
   "cell_type": "code",
   "execution_count": 35,
   "id": "dbcd2fd0",
   "metadata": {},
   "outputs": [],
   "source": [
    "test_data_prediction=regrissior.predict(x_test)"
   ]
  },
  {
   "cell_type": "code",
   "execution_count": 36,
   "id": "9ff56aa5",
   "metadata": {},
   "outputs": [
    {
     "data": {
      "text/plain": [
       "array([168.48469932,  82.00609998, 116.05240024, 127.68650082,\n",
       "       120.84130136, 154.84539779, 150.48919895, 126.10900029,\n",
       "       117.48489869, 126.28000033, 116.775801  , 171.70250136,\n",
       "       141.65179892, 167.86879865, 115.22659999, 117.75350034,\n",
       "       139.33870285, 170.23160115, 159.38490258, 157.26600027,\n",
       "       155.16620047, 125.20699991, 176.3191    , 157.43630388,\n",
       "       125.28780031,  93.89429994,  77.4897005 , 121.07120001,\n",
       "       119.02099917, 167.56389967,  88.24350063, 125.17550036,\n",
       "        91.08400063, 117.68940048, 120.97349913, 135.71120077,\n",
       "       115.66450111, 115.2437008 , 148.47099962, 107.2875011 ,\n",
       "       103.97680233,  87.25219789, 126.56180037, 118.17920004,\n",
       "       153.62589842, 119.46490009, 108.3986002 , 108.12889826,\n",
       "        93.31450093, 127.33059717,  74.85450024, 113.62009902,\n",
       "       121.23619988, 111.18999888, 118.88459919, 120.79359944,\n",
       "       159.82789988, 168.19410155, 147.12159697,  85.94679871,\n",
       "        94.51370038,  86.85719858,  90.74519994, 119.15210041,\n",
       "       126.48100081, 127.5485999 , 170.81880059, 122.24489937,\n",
       "       117.45759879,  98.69129963, 168.31539988, 142.71209799,\n",
       "       131.0800022 , 121.21790215, 120.71889956, 119.76330059,\n",
       "       114.59900097, 118.15870028, 107.17240107, 127.89800087,\n",
       "       114.11339949, 107.71599957, 116.54760073, 119.53919882,\n",
       "        88.76860081,  88.26309871, 146.54340268, 127.16720016,\n",
       "       113.82210032, 110.14659848, 108.08569912,  77.43179891,\n",
       "       168.64580154, 113.95869878, 121.60289896, 127.88970193,\n",
       "       154.86909856,  91.70109937, 135.4488006 , 158.94740322,\n",
       "       125.08860082, 125.41110074, 130.65770178, 114.89600076,\n",
       "       119.74079988,  92.01179988, 110.26709902, 167.90829937,\n",
       "       156.93419906, 114.11079926, 106.84920095,  79.93820022,\n",
       "       113.26780055, 125.83000073, 107.25229897, 119.1521009 ,\n",
       "       155.59170306, 159.89049935, 120.34279997, 134.68210241,\n",
       "       101.4098997 , 117.54239781, 119.19670002, 113.00620089,\n",
       "       102.7697992 , 159.8751973 ,  99.27490039, 148.00179965,\n",
       "       125.5393011 , 169.88879902, 125.84799891, 127.47299696,\n",
       "       127.49470191, 113.63529953, 112.85700042, 123.66189904,\n",
       "       102.24819903,  89.17479947, 124.83129937, 101.75049926,\n",
       "       107.21299911, 112.89590029, 117.33610062,  99.2173995 ,\n",
       "       121.66270032, 163.34989918,  87.29399862, 106.71910004,\n",
       "       117.14270093, 127.7191014 , 124.1444005 ,  80.88619927,\n",
       "       120.48360061, 157.90109769,  87.68359929, 110.2795994 ,\n",
       "       118.83009906, 171.89629953, 102.99389911, 105.34740063,\n",
       "       122.53770035, 158.52809749,  87.46969854,  93.21960052,\n",
       "       113.04860038, 177.14639884, 114.4004995 , 119.24529998,\n",
       "        94.66400119, 125.54480062, 166.45790069, 114.69340007,\n",
       "       116.8044013 ,  88.37379882, 149.22780055, 120.27159951,\n",
       "        89.46029983, 112.0098002 , 117.45700049, 118.71320128,\n",
       "        88.16939927,  94.14100012, 117.16870022, 118.583402  ,\n",
       "       120.0184998 , 126.92759745, 121.85049987, 150.62709992,\n",
       "       164.17850053, 118.52799976, 120.1879011 , 151.02129998,\n",
       "       118.492599  , 172.09089927, 105.19359913, 104.95850127,\n",
       "       150.48270061, 113.91010059, 124.83120128, 147.32599992,\n",
       "       119.77950123, 115.36350059, 112.92280021, 113.52280215,\n",
       "       140.43010136, 118.09029752, 102.97740013, 115.82720107,\n",
       "       103.2870018 ,  98.93010003, 117.49780031,  90.65430022,\n",
       "        91.78780043, 153.73069891, 102.74589975, 154.6886007 ,\n",
       "       114.32990176, 138.18020018,  90.11229789, 115.4492999 ,\n",
       "       114.50219954, 122.29350018, 121.61960045, 165.25110179,\n",
       "        92.96869975, 135.7739012 , 121.48399845, 120.61640061,\n",
       "       104.58160024, 141.43480382, 121.49709935, 116.56680039,\n",
       "       113.51160074, 127.07719728, 122.69559965, 125.81659957,\n",
       "       121.27870005,  86.90839887, 132.63750196, 144.73410217,\n",
       "        92.64989984, 159.66460045, 159.42400276, 126.20399887,\n",
       "       164.89729966, 108.97530008, 110.05100073, 103.6317981 ,\n",
       "        94.22540055, 127.88100299, 107.24270049, 162.31660024,\n",
       "       121.63860028, 131.89910041, 130.67260139, 160.23289984,\n",
       "        90.19179827, 175.10150216, 128.27810023, 126.93359819,\n",
       "        86.08919939, 124.67779979, 150.32279734,  89.65800017,\n",
       "       107.04510014, 109.04429976,  84.39299922, 135.88610007,\n",
       "       155.07300197, 137.91060454,  74.29550021, 152.62400107,\n",
       "       125.88679965, 126.78410008, 127.50589874, 108.66759943,\n",
       "       156.07910072, 114.48480084, 116.85110137, 125.05749975,\n",
       "       154.12970144, 121.41239975, 156.44709903,  93.0035007 ,\n",
       "       125.49880098, 125.78480016,  88.03480065,  92.35969873,\n",
       "       126.35979922, 128.29710374, 113.03100039, 117.78349754,\n",
       "       120.83809972, 126.95279808, 119.31900106, 136.15640078,\n",
       "        93.97419944, 119.67280052, 113.07170115,  94.32139929,\n",
       "       108.83039979,  86.76419907, 109.43309941,  89.71359968,\n",
       "        92.55560053, 131.80850297, 162.29320031,  89.46710011,\n",
       "       119.67550097, 133.23910157, 123.92700037, 128.48970192,\n",
       "       101.94439834,  88.90929888, 131.61070103, 119.60920031,\n",
       "       108.5973    , 169.44410042, 115.20300032,  86.70469903,\n",
       "       118.8315007 ,  91.05509939, 161.84330146, 116.59470023,\n",
       "       121.64079995, 160.45209864, 119.89449925, 112.38329972,\n",
       "       108.46009883, 126.67680023,  76.54620015, 103.0384999 ,\n",
       "       127.6802027 , 121.62599981,  92.68000036, 132.0688006 ,\n",
       "       118.03230133, 116.04409994, 154.27080297, 159.33430088,\n",
       "       110.05149977, 156.03869856, 119.26760089, 160.64200105,\n",
       "       118.52150011, 158.62709892, 115.14029962, 116.19020033,\n",
       "       149.76049896, 114.71890049, 125.79029867, 166.69369926,\n",
       "       117.82910031, 125.32429931, 153.38510314, 153.43750239,\n",
       "       131.92550042, 114.66740056, 121.21850198, 125.3735007 ,\n",
       "        89.73070071, 123.1698001 , 154.87070173, 111.6982003 ,\n",
       "       106.59820013, 162.17210087, 118.36209954, 165.69519971,\n",
       "       134.25190026, 114.99039966, 153.01189875, 168.46699966,\n",
       "       113.79340018, 114.16460106, 158.72499913,  85.49999875,\n",
       "       127.07850061, 127.81780035, 129.01789995, 124.49350062,\n",
       "       123.97150047,  90.63990054, 153.21709938,  97.12329974,\n",
       "       136.53440005,  89.12389911, 107.68149967, 115.05850055,\n",
       "       112.75750085, 124.24759932,  91.44039887, 125.44730088,\n",
       "       162.46059858, 120.01649897, 165.10540126, 126.9585974 ,\n",
       "       112.34969997, 127.60169941,  95.09809901,  91.27819946,\n",
       "       103.17629903, 120.71729983,  83.53669966, 126.45690035,\n",
       "       160.28300427, 117.29590071, 118.36299973, 119.93160009,\n",
       "       123.14269972, 120.0839013 , 121.25110049, 118.53070056,\n",
       "       107.12449972, 148.48249962, 126.19839881, 115.6565006 ,\n",
       "        74.08759991, 127.82770077, 154.02530099, 122.34059993,\n",
       "       125.53060039,  88.95790023, 103.38449873, 124.98139995,\n",
       "       120.3375004 ,  73.35730077, 151.29299985, 121.11730005,\n",
       "       104.56620026,  86.41959785, 115.37319912, 172.19939805,\n",
       "       119.85540053, 160.14009724, 113.11439939, 121.3250002 ,\n",
       "       118.62080121,  95.97909983, 118.64090015, 125.81030024,\n",
       "       118.51359965,  96.39090076, 153.53340183, 122.26459987,\n",
       "       147.44719966, 159.17220252, 113.94280035, 122.61049921,\n",
       "       151.32789844, 127.13740057, 166.22650026, 135.40169951,\n",
       "       119.81489983, 167.75469886, 108.32209921, 121.80189882,\n",
       "       138.26040104, 106.78429907])"
      ]
     },
     "execution_count": 36,
     "metadata": {},
     "output_type": "execute_result"
    }
   ],
   "source": [
    "test_data_prediction"
   ]
  },
  {
   "cell_type": "code",
   "execution_count": 37,
   "id": "2fdf8dcb",
   "metadata": {},
   "outputs": [],
   "source": [
    "error_score=metrics.r2_score(y_test,test_data_prediction)"
   ]
  },
  {
   "cell_type": "code",
   "execution_count": 38,
   "id": "34562abb",
   "metadata": {},
   "outputs": [
    {
     "data": {
      "text/plain": [
       "0.9887632004299622"
      ]
     },
     "execution_count": 38,
     "metadata": {},
     "output_type": "execute_result"
    }
   ],
   "source": [
    "error_score"
   ]
  },
  {
   "cell_type": "code",
   "execution_count": 39,
   "id": "3f81e095",
   "metadata": {},
   "outputs": [],
   "source": [
    "y_test=list(y_test)"
   ]
  },
  {
   "cell_type": "code",
   "execution_count": 42,
   "id": "a7d1fac8",
   "metadata": {},
   "outputs": [
    {
     "data": {
      "image/png": "[encoded data removed]",
      "text/plain": [
       "<Figure size 432x288 with 1 Axes>"
      ]
     },
     "metadata": {
      "needs_background": "light"
     },
     "output_type": "display_data"
    }
   ],
   "source": [
    "plt.plot(y_test,color='red',label='Actual Value')\n",
    "plt.plot(test_data_prediction,color='green',label='Prediction Value')\n",
    "plt.title('Actual Value vs Prediction Value')\n",
    "plt.xlabel('Number of Values')\n",
    "plt.ylabel('GLD Price')\n",
    "plt.legend()\n",
    "plt.show()"
   ]
  },
  {
   "cell_type": "code",
   "execution_count": null,
   "id": "d7fe60bf",
   "metadata": {},
   "outputs": [],
   "source": []
  }
 ],
 "metadata": {
  "kernelspec": {
   "display_name": "Python 3 (ipykernel)",
   "language": "python",
   "name": "python3"
  },
  "language_info": {
   "codemirror_mode": {
    "name": "ipython",
    "version": 3
   },
   "file_extension": ".py",
   "mimetype": "text/x-python",
   "name": "python",
   "nbconvert_exporter": "python",
   "pygments_lexer": "ipython3",
   "version": "3.9.12"
  }
 },
 "nbformat": 4,
 "nbformat_minor": 5
}
