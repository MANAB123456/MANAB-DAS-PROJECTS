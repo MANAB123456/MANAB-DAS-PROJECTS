{
 "cells": [
  {
   "cell_type": "code",
   "execution_count": 2,
   "id": "c3ee11d0",
   "metadata": {},
   "outputs": [],
   "source": [
    "## Loading the Dataset\n",
    "\n",
    "import pandas as pd\n",
    "import seaborn as sn\n",
    "import matplotlib.pyplot as plt\n",
    "import pandas as pd\n",
    "import numpy as np\n",
    "import seaborn as sns \n",
    "import matplotlib.pyplot as plt \n",
    "from sklearn.preprocessing import LabelEncoder\n",
    "sns.set(color_codes=True)"
   ]
  },
  {
   "cell_type": "code",
   "execution_count": 3,
   "id": "bc4de09b",
   "metadata": {},
   "outputs": [
    {
     "data": {
      "text/plain": [
       "(1100, 14)"
      ]
     },
     "execution_count": 3,
     "metadata": {},
     "output_type": "execute_result"
    }
   ],
   "source": [
    "df= pd.read_csv(r'C:\\Users\\akshita\\Downloads\\Proj1 (1) (1).csv')\n",
    "# df.head()\n",
    "df.shape\n",
    "# list(df)"
   ]
  },
  {
   "cell_type": "code",
   "execution_count": 4,
   "id": "94d4cb6b",
   "metadata": {},
   "outputs": [],
   "source": [
    "df.drop(columns = ['Sample ID','Sl No','Age'], axis = 1 , inplace=True)"
   ]
  },
  {
   "cell_type": "code",
   "execution_count": 5,
   "id": "1a489912",
   "metadata": {},
   "outputs": [
    {
     "name": "stdout",
     "output_type": "stream",
     "text": [
      "<class 'pandas.core.frame.DataFrame'>\n",
      "RangeIndex: 1100 entries, 0 to 1099\n",
      "Data columns (total 11 columns):\n",
      " #   Column                           Non-Null Count  Dtype  \n",
      "---  ------                           --------------  -----  \n",
      " 0   Gender                           1100 non-null   object \n",
      " 1   inter canine distance intraoral  1100 non-null   float64\n",
      " 2   intercanine distance casts       1100 non-null   float64\n",
      " 3   right canine width intraoral     1100 non-null   float64\n",
      " 4   right canine width casts         1100 non-null   float64\n",
      " 5   left canine width intraoral      1100 non-null   float64\n",
      " 6   left canine width casts          1100 non-null   float64\n",
      " 7   right canine index intra oral    1100 non-null   float64\n",
      " 8   right canine index casts         1100 non-null   float64\n",
      " 9   left canine index intraoral      1100 non-null   float64\n",
      " 10  left canine index casts          1100 non-null   float64\n",
      "dtypes: float64(10), object(1)\n",
      "memory usage: 94.7+ KB\n"
     ]
    }
   ],
   "source": [
    "df.info()"
   ]
  },
  {
   "cell_type": "code",
   "execution_count": 6,
   "id": "f18ed56a",
   "metadata": {},
   "outputs": [
    {
     "data": {
      "text/plain": [
       "Gender                              object\n",
       "inter canine distance intraoral    float64\n",
       "intercanine distance casts         float64\n",
       "right canine width intraoral       float64\n",
       "right canine width casts           float64\n",
       "left canine width intraoral        float64\n",
       "left canine width casts            float64\n",
       "right canine index intra oral      float64\n",
       "right canine index casts           float64\n",
       "left canine index intraoral        float64\n",
       "left canine index casts            float64\n",
       "dtype: object"
      ]
     },
     "execution_count": 6,
     "metadata": {},
     "output_type": "execute_result"
    }
   ],
   "source": [
    "df.dtypes"
   ]
  },
  {
   "cell_type": "code",
   "execution_count": 7,
   "id": "242e9013",
   "metadata": {
    "scrolled": true
   },
   "outputs": [
    {
     "data": {
      "text/plain": [
       "Gender                             0\n",
       "inter canine distance intraoral    0\n",
       "intercanine distance casts         0\n",
       "right canine width intraoral       0\n",
       "right canine width casts           0\n",
       "left canine width intraoral        0\n",
       "left canine width casts            0\n",
       "right canine index intra oral      0\n",
       "right canine index casts           0\n",
       "left canine index intraoral        0\n",
       "left canine index casts            0\n",
       "dtype: int64"
      ]
     },
     "execution_count": 7,
     "metadata": {},
     "output_type": "execute_result"
    }
   ],
   "source": [
    "df.isnull().sum().sort_values(ascending=False)"
   ]
  },
  {
   "cell_type": "code",
   "execution_count": 8,
   "id": "760c2b5d",
   "metadata": {},
   "outputs": [
    {
     "name": "stdout",
     "output_type": "stream",
     "text": [
      "['Female' 'Male']\n"
     ]
    }
   ],
   "source": [
    "print(df['Gender'].unique())"
   ]
  },
  {
   "cell_type": "code",
   "execution_count": 9,
   "id": "5c5a1b05",
   "metadata": {},
   "outputs": [
    {
     "name": "stdout",
     "output_type": "stream",
     "text": [
      "Female    550\n",
      "Male      550\n",
      "Name: Gender, dtype: int64\n"
     ]
    }
   ],
   "source": [
    "print(df['Gender'].value_counts())"
   ]
  },
  {
   "cell_type": "code",
   "execution_count": 10,
   "id": "483ab24f",
   "metadata": {},
   "outputs": [],
   "source": [
    "label_encoder  = LabelEncoder()\n",
    "df['Gender']= label_encoder.fit_transform(df['Gender'])"
   ]
  },
  {
   "cell_type": "code",
   "execution_count": 11,
   "id": "7c7ba224",
   "metadata": {},
   "outputs": [
    {
     "data": {
      "text/html": [
       "<div>\n",
       "<style scoped>\n",
       "    .dataframe tbody tr th:only-of-type {\n",
       "        vertical-align: middle;\n",
       "    }\n",
       "\n",
       "    .dataframe tbody tr th {\n",
       "        vertical-align: top;\n",
       "    }\n",
       "\n",
       "    .dataframe thead th {\n",
       "        text-align: right;\n",
       "    }\n",
       "</style>\n",
       "<table border=\"1\" class=\"dataframe\">\n",
       "  <thead>\n",
       "    <tr style=\"text-align: right;\">\n",
       "      <th></th>\n",
       "      <th>Gender</th>\n",
       "      <th>inter canine distance intraoral</th>\n",
       "      <th>intercanine distance casts</th>\n",
       "      <th>right canine width intraoral</th>\n",
       "      <th>right canine width casts</th>\n",
       "      <th>left canine width intraoral</th>\n",
       "      <th>left canine width casts</th>\n",
       "      <th>right canine index intra oral</th>\n",
       "      <th>right canine index casts</th>\n",
       "      <th>left canine index intraoral</th>\n",
       "      <th>left canine index casts</th>\n",
       "    </tr>\n",
       "  </thead>\n",
       "  <tbody>\n",
       "    <tr>\n",
       "      <th>0</th>\n",
       "      <td>0</td>\n",
       "      <td>25.06</td>\n",
       "      <td>25.05</td>\n",
       "      <td>6.08</td>\n",
       "      <td>6.08</td>\n",
       "      <td>6.09</td>\n",
       "      <td>6.10</td>\n",
       "      <td>0.242</td>\n",
       "      <td>0.242</td>\n",
       "      <td>0.242</td>\n",
       "      <td>0.241</td>\n",
       "    </tr>\n",
       "    <tr>\n",
       "      <th>1</th>\n",
       "      <td>0</td>\n",
       "      <td>25.78</td>\n",
       "      <td>25.79</td>\n",
       "      <td>6.13</td>\n",
       "      <td>6.13</td>\n",
       "      <td>6.33</td>\n",
       "      <td>6.33</td>\n",
       "      <td>0.237</td>\n",
       "      <td>0.237</td>\n",
       "      <td>0.247</td>\n",
       "      <td>0.247</td>\n",
       "    </tr>\n",
       "    <tr>\n",
       "      <th>2</th>\n",
       "      <td>0</td>\n",
       "      <td>23.83</td>\n",
       "      <td>23.83</td>\n",
       "      <td>5.91</td>\n",
       "      <td>5.96</td>\n",
       "      <td>6.28</td>\n",
       "      <td>6.28</td>\n",
       "      <td>0.248</td>\n",
       "      <td>0.248</td>\n",
       "      <td>0.264</td>\n",
       "      <td>0.264</td>\n",
       "    </tr>\n",
       "    <tr>\n",
       "      <th>3</th>\n",
       "      <td>0</td>\n",
       "      <td>26.12</td>\n",
       "      <td>26.12</td>\n",
       "      <td>6.08</td>\n",
       "      <td>6.08</td>\n",
       "      <td>6.56</td>\n",
       "      <td>6.56</td>\n",
       "      <td>0.232</td>\n",
       "      <td>0.232</td>\n",
       "      <td>0.250</td>\n",
       "      <td>0.250</td>\n",
       "    </tr>\n",
       "    <tr>\n",
       "      <th>4</th>\n",
       "      <td>0</td>\n",
       "      <td>26.36</td>\n",
       "      <td>26.41</td>\n",
       "      <td>6.09</td>\n",
       "      <td>6.09</td>\n",
       "      <td>6.50</td>\n",
       "      <td>6.50</td>\n",
       "      <td>0.231</td>\n",
       "      <td>0.231</td>\n",
       "      <td>0.246</td>\n",
       "      <td>0.246</td>\n",
       "    </tr>\n",
       "  </tbody>\n",
       "</table>\n",
       "</div>"
      ],
      "text/plain": [
       "   Gender  inter canine distance intraoral  intercanine distance casts  \\\n",
       "0       0                            25.06                       25.05   \n",
       "1       0                            25.78                       25.79   \n",
       "2       0                            23.83                       23.83   \n",
       "3       0                            26.12                       26.12   \n",
       "4       0                            26.36                       26.41   \n",
       "\n",
       "   right canine width intraoral  right canine width casts  \\\n",
       "0                          6.08                      6.08   \n",
       "1                          6.13                      6.13   \n",
       "2                          5.91                      5.96   \n",
       "3                          6.08                      6.08   \n",
       "4                          6.09                      6.09   \n",
       "\n",
       "   left canine width intraoral  left canine width casts  \\\n",
       "0                         6.09                     6.10   \n",
       "1                         6.33                     6.33   \n",
       "2                         6.28                     6.28   \n",
       "3                         6.56                     6.56   \n",
       "4                         6.50                     6.50   \n",
       "\n",
       "   right canine index intra oral  right canine index casts  \\\n",
       "0                          0.242                     0.242   \n",
       "1                          0.237                     0.237   \n",
       "2                          0.248                     0.248   \n",
       "3                          0.232                     0.232   \n",
       "4                          0.231                     0.231   \n",
       "\n",
       "   left canine index intraoral  left canine index casts  \n",
       "0                        0.242                    0.241  \n",
       "1                        0.247                    0.247  \n",
       "2                        0.264                    0.264  \n",
       "3                        0.250                    0.250  \n",
       "4                        0.246                    0.246  "
      ]
     },
     "execution_count": 11,
     "metadata": {},
     "output_type": "execute_result"
    }
   ],
   "source": [
    "df.head()"
   ]
  },
  {
   "cell_type": "code",
   "execution_count": 12,
   "id": "e62c05b4",
   "metadata": {},
   "outputs": [
    {
     "data": {
      "text/plain": [
       "Gender                             1100\n",
       "inter canine distance intraoral    1100\n",
       "intercanine distance casts         1100\n",
       "right canine width intraoral       1100\n",
       "right canine width casts           1100\n",
       "left canine width intraoral        1100\n",
       "left canine width casts            1100\n",
       "right canine index intra oral      1100\n",
       "right canine index casts           1100\n",
       "left canine index intraoral        1100\n",
       "left canine index casts            1100\n",
       "dtype: int64"
      ]
     },
     "execution_count": 12,
     "metadata": {},
     "output_type": "execute_result"
    }
   ],
   "source": [
    "df.count()"
   ]
  },
  {
   "cell_type": "code",
   "execution_count": 13,
   "id": "c27f5eaf",
   "metadata": {},
   "outputs": [
    {
     "data": {
      "text/plain": [
       "Gender                             1077\n",
       "inter canine distance intraoral    1077\n",
       "intercanine distance casts         1077\n",
       "right canine width intraoral       1077\n",
       "right canine width casts           1077\n",
       "left canine width intraoral        1077\n",
       "left canine width casts            1077\n",
       "right canine index intra oral      1077\n",
       "right canine index casts           1077\n",
       "left canine index intraoral        1077\n",
       "left canine index casts            1077\n",
       "dtype: int64"
      ]
     },
     "execution_count": 13,
     "metadata": {},
     "output_type": "execute_result"
    }
   ],
   "source": [
    "df = df.drop_duplicates()\n",
    "df.count()"
   ]
  },
  {
   "cell_type": "code",
   "execution_count": 14,
   "id": "c5e4fc9f",
   "metadata": {},
   "outputs": [
    {
     "data": {
      "text/plain": [
       "Gender                             0\n",
       "inter canine distance intraoral    0\n",
       "intercanine distance casts         0\n",
       "right canine width intraoral       0\n",
       "right canine width casts           0\n",
       "left canine width intraoral        0\n",
       "left canine width casts            0\n",
       "right canine index intra oral      0\n",
       "right canine index casts           0\n",
       "left canine index intraoral        0\n",
       "left canine index casts            0\n",
       "dtype: int64"
      ]
     },
     "execution_count": 14,
     "metadata": {},
     "output_type": "execute_result"
    }
   ],
   "source": [
    "df.isnull().sum()"
   ]
  },
  {
   "cell_type": "code",
   "execution_count": 15,
   "id": "ea5ad21d",
   "metadata": {},
   "outputs": [
    {
     "data": {
      "image/png": "[encoded data removed]",
      "text/plain": [
       "<Figure size 1440x1440 with 1 Axes>"
      ]
     },
     "metadata": {},
     "output_type": "display_data"
    }
   ],
   "source": [
    "#Boxplot to find out outliers\n",
    "fig = plt.figure(figsize =(20, 20))\n",
    "sns.boxplot(data= df, linewidth=1)\n",
    "plt.xticks(rotation='vertical')\n",
    "plt.show()"
   ]
  },
  {
   "cell_type": "code",
   "execution_count": 16,
   "id": "9448ece5",
   "metadata": {},
   "outputs": [],
   "source": [
    "#Define outliers\n",
    "def outliers (df, ft) :\n",
    "    Q1= df[ft].quantile(0.25)\n",
    "    Q3= df[ft].quantile(0.75)\n",
    "    \n",
    "    IQR = Q3-Q1\n",
    "    \n",
    "    lower_bound = Q1 - 1.5*IQR\n",
    "    upper_bound = Q3 + 1.5*IQR\n",
    "    \n",
    "    ls = df.index[(df[ft] < lower_bound )| (df[ft] > upper_bound )]\n",
    "    \n",
    "    return ls"
   ]
  },
  {
   "cell_type": "code",
   "execution_count": 17,
   "id": "cb4b1b0c",
   "metadata": {},
   "outputs": [],
   "source": [
    "#Removing Outlayers\n",
    "def remove (df, ls ):\n",
    "    ls = sorted(set(ls))\n",
    "    df = df.drop(ls)\n",
    "    \n",
    "    return df"
   ]
  },
  {
   "cell_type": "code",
   "execution_count": 18,
   "id": "1f65d34c",
   "metadata": {},
   "outputs": [
    {
     "data": {
      "text/plain": [
       "(1077, 11)"
      ]
     },
     "execution_count": 18,
     "metadata": {},
     "output_type": "execute_result"
    }
   ],
   "source": [
    "df.shape"
   ]
  },
  {
   "cell_type": "code",
   "execution_count": 19,
   "id": "141c9667",
   "metadata": {},
   "outputs": [],
   "source": [
    "index_list = []\n",
    "for feature in [\n",
    " 'Gender',\n",
    " 'inter canine distance intraoral',\n",
    " 'intercanine distance casts',\n",
    " 'right canine width intraoral',\n",
    " 'right canine width casts',\n",
    " 'left canine width intraoral',\n",
    " 'left canine width casts',\n",
    " 'right canine index intra oral',\n",
    " 'right canine index casts',\n",
    " 'left canine index intraoral',\n",
    " 'left canine index casts']:\n",
    "    index_list.extend(outliers(df , feature))"
   ]
  },
  {
   "cell_type": "code",
   "execution_count": 20,
   "id": "e9807014",
   "metadata": {},
   "outputs": [],
   "source": [
    "df1 = remove(df,index_list)"
   ]
  },
  {
   "cell_type": "code",
   "execution_count": 21,
   "id": "dbd583b6",
   "metadata": {},
   "outputs": [
    {
     "data": {
      "text/plain": [
       "(1031, 11)"
      ]
     },
     "execution_count": 21,
     "metadata": {},
     "output_type": "execute_result"
    }
   ],
   "source": [
    "df1.shape"
   ]
  },
  {
   "cell_type": "code",
   "execution_count": 22,
   "id": "4c27fc1e",
   "metadata": {},
   "outputs": [
    {
     "data": {
      "text/html": [
       "<div>\n",
       "<style scoped>\n",
       "    .dataframe tbody tr th:only-of-type {\n",
       "        vertical-align: middle;\n",
       "    }\n",
       "\n",
       "    .dataframe tbody tr th {\n",
       "        vertical-align: top;\n",
       "    }\n",
       "\n",
       "    .dataframe thead th {\n",
       "        text-align: right;\n",
       "    }\n",
       "</style>\n",
       "<table border=\"1\" class=\"dataframe\">\n",
       "  <thead>\n",
       "    <tr style=\"text-align: right;\">\n",
       "      <th></th>\n",
       "      <th>Gender</th>\n",
       "      <th>inter canine distance intraoral</th>\n",
       "      <th>intercanine distance casts</th>\n",
       "      <th>right canine width intraoral</th>\n",
       "      <th>right canine width casts</th>\n",
       "      <th>left canine width intraoral</th>\n",
       "      <th>left canine width casts</th>\n",
       "      <th>right canine index intra oral</th>\n",
       "      <th>right canine index casts</th>\n",
       "      <th>left canine index intraoral</th>\n",
       "      <th>left canine index casts</th>\n",
       "    </tr>\n",
       "  </thead>\n",
       "  <tbody>\n",
       "    <tr>\n",
       "      <th>Gender</th>\n",
       "      <td>1.000000</td>\n",
       "      <td>0.343996</td>\n",
       "      <td>0.343686</td>\n",
       "      <td>0.544627</td>\n",
       "      <td>0.544754</td>\n",
       "      <td>0.620852</td>\n",
       "      <td>0.623938</td>\n",
       "      <td>0.272879</td>\n",
       "      <td>0.276683</td>\n",
       "      <td>0.370142</td>\n",
       "      <td>0.373046</td>\n",
       "    </tr>\n",
       "    <tr>\n",
       "      <th>inter canine distance intraoral</th>\n",
       "      <td>0.343996</td>\n",
       "      <td>1.000000</td>\n",
       "      <td>0.999965</td>\n",
       "      <td>0.576517</td>\n",
       "      <td>0.578644</td>\n",
       "      <td>0.619467</td>\n",
       "      <td>0.617933</td>\n",
       "      <td>-0.356836</td>\n",
       "      <td>-0.351572</td>\n",
       "      <td>-0.345069</td>\n",
       "      <td>-0.338860</td>\n",
       "    </tr>\n",
       "    <tr>\n",
       "      <th>intercanine distance casts</th>\n",
       "      <td>0.343686</td>\n",
       "      <td>0.999965</td>\n",
       "      <td>1.000000</td>\n",
       "      <td>0.577132</td>\n",
       "      <td>0.579241</td>\n",
       "      <td>0.620687</td>\n",
       "      <td>0.619138</td>\n",
       "      <td>-0.356099</td>\n",
       "      <td>-0.350807</td>\n",
       "      <td>-0.343581</td>\n",
       "      <td>-0.337370</td>\n",
       "    </tr>\n",
       "    <tr>\n",
       "      <th>right canine width intraoral</th>\n",
       "      <td>0.544627</td>\n",
       "      <td>0.576517</td>\n",
       "      <td>0.577132</td>\n",
       "      <td>1.000000</td>\n",
       "      <td>0.999808</td>\n",
       "      <td>0.935264</td>\n",
       "      <td>0.934234</td>\n",
       "      <td>0.551711</td>\n",
       "      <td>0.559688</td>\n",
       "      <td>0.484227</td>\n",
       "      <td>0.488886</td>\n",
       "    </tr>\n",
       "    <tr>\n",
       "      <th>right canine width casts</th>\n",
       "      <td>0.544754</td>\n",
       "      <td>0.578644</td>\n",
       "      <td>0.579241</td>\n",
       "      <td>0.999808</td>\n",
       "      <td>1.000000</td>\n",
       "      <td>0.936617</td>\n",
       "      <td>0.935518</td>\n",
       "      <td>0.549504</td>\n",
       "      <td>0.557648</td>\n",
       "      <td>0.483530</td>\n",
       "      <td>0.488224</td>\n",
       "    </tr>\n",
       "    <tr>\n",
       "      <th>left canine width intraoral</th>\n",
       "      <td>0.620852</td>\n",
       "      <td>0.619467</td>\n",
       "      <td>0.620687</td>\n",
       "      <td>0.935264</td>\n",
       "      <td>0.936617</td>\n",
       "      <td>1.000000</td>\n",
       "      <td>0.999700</td>\n",
       "      <td>0.439705</td>\n",
       "      <td>0.447737</td>\n",
       "      <td>0.520279</td>\n",
       "      <td>0.525577</td>\n",
       "    </tr>\n",
       "    <tr>\n",
       "      <th>left canine width casts</th>\n",
       "      <td>0.623938</td>\n",
       "      <td>0.617933</td>\n",
       "      <td>0.619138</td>\n",
       "      <td>0.934234</td>\n",
       "      <td>0.935518</td>\n",
       "      <td>0.999700</td>\n",
       "      <td>1.000000</td>\n",
       "      <td>0.440317</td>\n",
       "      <td>0.448134</td>\n",
       "      <td>0.521811</td>\n",
       "      <td>0.527211</td>\n",
       "    </tr>\n",
       "    <tr>\n",
       "      <th>right canine index intra oral</th>\n",
       "      <td>0.272879</td>\n",
       "      <td>-0.356836</td>\n",
       "      <td>-0.356099</td>\n",
       "      <td>0.551711</td>\n",
       "      <td>0.549504</td>\n",
       "      <td>0.439705</td>\n",
       "      <td>0.440317</td>\n",
       "      <td>1.000000</td>\n",
       "      <td>0.995629</td>\n",
       "      <td>0.906518</td>\n",
       "      <td>0.905598</td>\n",
       "    </tr>\n",
       "    <tr>\n",
       "      <th>right canine index casts</th>\n",
       "      <td>0.276683</td>\n",
       "      <td>-0.351572</td>\n",
       "      <td>-0.350807</td>\n",
       "      <td>0.559688</td>\n",
       "      <td>0.557648</td>\n",
       "      <td>0.447737</td>\n",
       "      <td>0.448134</td>\n",
       "      <td>0.995629</td>\n",
       "      <td>1.000000</td>\n",
       "      <td>0.910535</td>\n",
       "      <td>0.909692</td>\n",
       "    </tr>\n",
       "    <tr>\n",
       "      <th>left canine index intraoral</th>\n",
       "      <td>0.370142</td>\n",
       "      <td>-0.345069</td>\n",
       "      <td>-0.343581</td>\n",
       "      <td>0.484227</td>\n",
       "      <td>0.483530</td>\n",
       "      <td>0.520279</td>\n",
       "      <td>0.521811</td>\n",
       "      <td>0.906518</td>\n",
       "      <td>0.910535</td>\n",
       "      <td>1.000000</td>\n",
       "      <td>0.999206</td>\n",
       "    </tr>\n",
       "    <tr>\n",
       "      <th>left canine index casts</th>\n",
       "      <td>0.373046</td>\n",
       "      <td>-0.338860</td>\n",
       "      <td>-0.337370</td>\n",
       "      <td>0.488886</td>\n",
       "      <td>0.488224</td>\n",
       "      <td>0.525577</td>\n",
       "      <td>0.527211</td>\n",
       "      <td>0.905598</td>\n",
       "      <td>0.909692</td>\n",
       "      <td>0.999206</td>\n",
       "      <td>1.000000</td>\n",
       "    </tr>\n",
       "  </tbody>\n",
       "</table>\n",
       "</div>"
      ],
      "text/plain": [
       "                                   Gender  inter canine distance intraoral  \\\n",
       "Gender                           1.000000                         0.343996   \n",
       "inter canine distance intraoral  0.343996                         1.000000   \n",
       "intercanine distance casts       0.343686                         0.999965   \n",
       "right canine width intraoral     0.544627                         0.576517   \n",
       "right canine width casts         0.544754                         0.578644   \n",
       "left canine width intraoral      0.620852                         0.619467   \n",
       "left canine width casts          0.623938                         0.617933   \n",
       "right canine index intra oral    0.272879                        -0.356836   \n",
       "right canine index casts         0.276683                        -0.351572   \n",
       "left canine index intraoral      0.370142                        -0.345069   \n",
       "left canine index casts          0.373046                        -0.338860   \n",
       "\n",
       "                                 intercanine distance casts  \\\n",
       "Gender                                             0.343686   \n",
       "inter canine distance intraoral                    0.999965   \n",
       "intercanine distance casts                         1.000000   \n",
       "right canine width intraoral                       0.577132   \n",
       "right canine width casts                           0.579241   \n",
       "left canine width intraoral                        0.620687   \n",
       "left canine width casts                            0.619138   \n",
       "right canine index intra oral                     -0.356099   \n",
       "right canine index casts                          -0.350807   \n",
       "left canine index intraoral                       -0.343581   \n",
       "left canine index casts                           -0.337370   \n",
       "\n",
       "                                 right canine width intraoral  \\\n",
       "Gender                                               0.544627   \n",
       "inter canine distance intraoral                      0.576517   \n",
       "intercanine distance casts                           0.577132   \n",
       "right canine width intraoral                         1.000000   \n",
       "right canine width casts                             0.999808   \n",
       "left canine width intraoral                          0.935264   \n",
       "left canine width casts                              0.934234   \n",
       "right canine index intra oral                        0.551711   \n",
       "right canine index casts                             0.559688   \n",
       "left canine index intraoral                          0.484227   \n",
       "left canine index casts                              0.488886   \n",
       "\n",
       "                                 right canine width casts  \\\n",
       "Gender                                           0.544754   \n",
       "inter canine distance intraoral                  0.578644   \n",
       "intercanine distance casts                       0.579241   \n",
       "right canine width intraoral                     0.999808   \n",
       "right canine width casts                         1.000000   \n",
       "left canine width intraoral                      0.936617   \n",
       "left canine width casts                          0.935518   \n",
       "right canine index intra oral                    0.549504   \n",
       "right canine index casts                         0.557648   \n",
       "left canine index intraoral                      0.483530   \n",
       "left canine index casts                          0.488224   \n",
       "\n",
       "                                 left canine width intraoral  \\\n",
       "Gender                                              0.620852   \n",
       "inter canine distance intraoral                     0.619467   \n",
       "intercanine distance casts                          0.620687   \n",
       "right canine width intraoral                        0.935264   \n",
       "right canine width casts                            0.936617   \n",
       "left canine width intraoral                         1.000000   \n",
       "left canine width casts                             0.999700   \n",
       "right canine index intra oral                       0.439705   \n",
       "right canine index casts                            0.447737   \n",
       "left canine index intraoral                         0.520279   \n",
       "left canine index casts                             0.525577   \n",
       "\n",
       "                                 left canine width casts  \\\n",
       "Gender                                          0.623938   \n",
       "inter canine distance intraoral                 0.617933   \n",
       "intercanine distance casts                      0.619138   \n",
       "right canine width intraoral                    0.934234   \n",
       "right canine width casts                        0.935518   \n",
       "left canine width intraoral                     0.999700   \n",
       "left canine width casts                         1.000000   \n",
       "right canine index intra oral                   0.440317   \n",
       "right canine index casts                        0.448134   \n",
       "left canine index intraoral                     0.521811   \n",
       "left canine index casts                         0.527211   \n",
       "\n",
       "                                 right canine index intra oral  \\\n",
       "Gender                                                0.272879   \n",
       "inter canine distance intraoral                      -0.356836   \n",
       "intercanine distance casts                           -0.356099   \n",
       "right canine width intraoral                          0.551711   \n",
       "right canine width casts                              0.549504   \n",
       "left canine width intraoral                           0.439705   \n",
       "left canine width casts                               0.440317   \n",
       "right canine index intra oral                         1.000000   \n",
       "right canine index casts                              0.995629   \n",
       "left canine index intraoral                           0.906518   \n",
       "left canine index casts                               0.905598   \n",
       "\n",
       "                                 right canine index casts  \\\n",
       "Gender                                           0.276683   \n",
       "inter canine distance intraoral                 -0.351572   \n",
       "intercanine distance casts                      -0.350807   \n",
       "right canine width intraoral                     0.559688   \n",
       "right canine width casts                         0.557648   \n",
       "left canine width intraoral                      0.447737   \n",
       "left canine width casts                          0.448134   \n",
       "right canine index intra oral                    0.995629   \n",
       "right canine index casts                         1.000000   \n",
       "left canine index intraoral                      0.910535   \n",
       "left canine index casts                          0.909692   \n",
       "\n",
       "                                 left canine index intraoral  \\\n",
       "Gender                                              0.370142   \n",
       "inter canine distance intraoral                    -0.345069   \n",
       "intercanine distance casts                         -0.343581   \n",
       "right canine width intraoral                        0.484227   \n",
       "right canine width casts                            0.483530   \n",
       "left canine width intraoral                         0.520279   \n",
       "left canine width casts                             0.521811   \n",
       "right canine index intra oral                       0.906518   \n",
       "right canine index casts                            0.910535   \n",
       "left canine index intraoral                         1.000000   \n",
       "left canine index casts                             0.999206   \n",
       "\n",
       "                                 left canine index casts  \n",
       "Gender                                          0.373046  \n",
       "inter canine distance intraoral                -0.338860  \n",
       "intercanine distance casts                     -0.337370  \n",
       "right canine width intraoral                    0.488886  \n",
       "right canine width casts                        0.488224  \n",
       "left canine width intraoral                     0.525577  \n",
       "left canine width casts                         0.527211  \n",
       "right canine index intra oral                   0.905598  \n",
       "right canine index casts                        0.909692  \n",
       "left canine index intraoral                     0.999206  \n",
       "left canine index casts                         1.000000  "
      ]
     },
     "execution_count": 22,
     "metadata": {},
     "output_type": "execute_result"
    }
   ],
   "source": [
    "df1.corr()"
   ]
  },
  {
   "cell_type": "code",
   "execution_count": 23,
   "id": "a5a1a16f",
   "metadata": {},
   "outputs": [],
   "source": [
    "#EDA Graphs \n",
    "# Histograms\n",
    "# bar plots\n",
    "# count plots\n",
    "\n",
    "# Scatter plot?\n",
    "\n",
    "# pairplot\n",
    "# heatmap - corrleation"
   ]
  },
  {
   "cell_type": "code",
   "execution_count": 24,
   "id": "dad74f3e",
   "metadata": {},
   "outputs": [],
   "source": [
    "#Assigning x and y \n",
    "x=df1.drop('Gender', axis=1)\n",
    "y=df1['Gender']"
   ]
  },
  {
   "cell_type": "code",
   "execution_count": 25,
   "id": "2b49806c",
   "metadata": {},
   "outputs": [],
   "source": [
    "# Standardization\n",
    "from sklearn.preprocessing import StandardScaler\n",
    "SS=StandardScaler()\n",
    "\n",
    "from sklearn.preprocessing import StandardScaler\n",
    "SS=StandardScaler()\n",
    "x_new=SS.fit_transform(x)"
   ]
  },
  {
   "cell_type": "code",
   "execution_count": 26,
   "id": "371031bc",
   "metadata": {},
   "outputs": [
    {
     "data": {
      "text/plain": [
       "((824, 10), (207, 10), (824,), (207,))"
      ]
     },
     "execution_count": 26,
     "metadata": {},
     "output_type": "execute_result"
    }
   ],
   "source": [
    "from sklearn.model_selection import train_test_split\n",
    "x_train, x_test, y_train, y_test = train_test_split(x, y, test_size=0.20, random_state=42)\n",
    "x_train.shape , x_test.shape , y_train.shape, y_test.shape"
   ]
  },
  {
   "cell_type": "code",
   "execution_count": 27,
   "id": "31b119a5",
   "metadata": {},
   "outputs": [],
   "source": [
    "from sklearn.svm import SVC\n",
    "from sklearn.model_selection import cross_val_score\n",
    "from sklearn.linear_model import LogisticRegression\n",
    "from sklearn.svm import LinearSVC\n",
    "from sklearn.ensemble import RandomForestClassifier\n",
    "from sklearn import metrics\n",
    "from sklearn.metrics import confusion_matrix, precision_score, recall_score,accuracy_score\n",
    "from sklearn.neighbors import KNeighborsClassifier\n",
    "from sklearn.tree import DecisionTreeClassifier\n",
    "from sklearn.naive_bayes import GaussianNB\n",
    "from sklearn.ensemble import ExtraTreesClassifier\n",
    "import catboost as ctb"
   ]
  },
  {
   "cell_type": "code",
   "execution_count": 28,
   "id": "36816b8f",
   "metadata": {},
   "outputs": [
    {
     "data": {
      "text/plain": [
       "LogisticRegression()"
      ]
     },
     "execution_count": 28,
     "metadata": {},
     "output_type": "execute_result"
    }
   ],
   "source": [
    "from sklearn.linear_model import LogisticRegression\n",
    "Lg=LogisticRegression()\n",
    "Lg.fit(x_train, y_train)"
   ]
  },
  {
   "cell_type": "code",
   "execution_count": 30,
   "id": "72eb9337",
   "metadata": {},
   "outputs": [],
   "source": [
    "y_pred_train=Lg.predict(x_train)\n",
    "y_pred_test=Lg.predict(x_test)"
   ]
  },
  {
   "cell_type": "code",
   "execution_count": 31,
   "id": "622b33e4",
   "metadata": {},
   "outputs": [
    {
     "name": "stdout",
     "output_type": "stream",
     "text": [
      "Logestic Regression Training accuracy 0.81 %\n",
      "Logestic Regression Test accuracy 0.78 %\n"
     ]
    }
   ],
   "source": [
    "train_acc=accuracy_score(y_train, y_pred_train)\n",
    "print(\"Logestic Regression Training accuracy\",train_acc.round(2),'%')\n",
    "\n",
    "test_acc=accuracy_score(y_test, y_pred_test)\n",
    "print(\"Logestic Regression Test accuracy\",test_acc.round(2),'%')"
   ]
  },
  {
   "cell_type": "code",
   "execution_count": 32,
   "id": "7a77482d",
   "metadata": {},
   "outputs": [
    {
     "data": {
      "text/plain": [
       "DecisionTreeClassifier(max_depth=6)"
      ]
     },
     "execution_count": 32,
     "metadata": {},
     "output_type": "execute_result"
    }
   ],
   "source": [
    "from sklearn.tree import DecisionTreeClassifier\n",
    "DT=DecisionTreeClassifier(criterion='gini', max_depth=6)\n",
    "DT.fit(x_train, y_train)"
   ]
  },
  {
   "cell_type": "code",
   "execution_count": 33,
   "id": "cb782980",
   "metadata": {},
   "outputs": [],
   "source": [
    "y_pred_train=DT.predict(x_train)\n",
    "y_pred_test=DT.predict(x_test)"
   ]
  },
  {
   "cell_type": "code",
   "execution_count": 34,
   "id": "a0d2d5ff",
   "metadata": {},
   "outputs": [
    {
     "name": "stdout",
     "output_type": "stream",
     "text": [
      "Decission Tree Training accuracy 0.9 %\n",
      "Decission Tree Test accuracy 0.79 %\n"
     ]
    }
   ],
   "source": [
    "train_acc=accuracy_score(y_train, y_pred_train)\n",
    "print(\"Decission Tree Training accuracy\",train_acc.round(2),'%')\n",
    "\n",
    "test_acc=accuracy_score(y_test, y_pred_test)\n",
    "print(\"Decission Tree Test accuracy\",test_acc.round(2),'%')"
   ]
  },
  {
   "cell_type": "code",
   "execution_count": null,
   "id": "8ff5d09c",
   "metadata": {},
   "outputs": [],
   "source": []
  }
 ],
 "metadata": {
  "kernelspec": {
   "display_name": "Python 3 (ipykernel)",
   "language": "python",
   "name": "python3"
  },
  "language_info": {
   "codemirror_mode": {
    "name": "ipython",
    "version": 3
   },
   "file_extension": ".py",
   "mimetype": "text/x-python",
   "name": "python",
   "nbconvert_exporter": "python",
   "pygments_lexer": "ipython3",
   "version": "3.9.12"
  }
 },
 "nbformat": 4,
 "nbformat_minor": 5
}
