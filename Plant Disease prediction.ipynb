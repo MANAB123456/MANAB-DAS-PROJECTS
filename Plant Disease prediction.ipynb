{
 "cells": [
  {
   "cell_type": "code",
   "execution_count": 2,
   "id": "5bf82da9",
   "metadata": {},
   "outputs": [],
   "source": [
    "# Set seeds for reproducibility\n",
    "import random\n",
    "random.seed(0)\n",
    "\n",
    "import numpy as np\n",
    "np.random.seed(0)\n",
    "\n",
    "import tensorflow as tf\n",
    "tf.random.set_seed(0)"
   ]
  },
  {
   "cell_type": "code",
   "execution_count": 4,
   "id": "ee49bbbf",
   "metadata": {},
   "outputs": [],
   "source": [
    "import os\n",
    "import json\n",
    "from zipfile import ZipFile\n",
    "from PIL import Image\n",
    "\n",
    "import numpy as np\n",
    "import matplotlib.pyplot as plt\n",
    "import matplotlib.image as mpimg\n",
    "from tensorflow.keras.preprocessing.image import ImageDataGenerator\n",
    "from tensorflow.keras import layers, models"
   ]
  },
  {
   "cell_type": "code",
   "execution_count": 6,
   "id": "83cba446",
   "metadata": {},
   "outputs": [],
   "source": [
    "# Unzip the downloaded dataset\n",
    "with ZipFile(r\"C:\\Users\\manab\\Downloads\\archive (17).zip\") as zip_ref:\n",
    "    zip_ref.extractall()\n",
    "     "
   ]
  },
  {
   "cell_type": "code",
   "execution_count": 11,
   "id": "dc603873",
   "metadata": {},
   "outputs": [
    {
     "name": "stdout",
     "output_type": "stream",
     "text": [
      "['Potato___Early_blight', 'Potato___healthy', 'Potato___Late_blight']\n",
      "1000\n",
      "['0051e5e8-d1c4-4a84-bf3a-a426cdad6285___RS_LB 4640.JPG', '00695906-210d-4a9d-822e-986a17384115___RS_LB 4026.JPG', '006cc01a-1888-4326-9b62-a65cb55a6377___RS_LB 5207.JPG', '0085ef03-aec3-431a-99a1-de286e10c0cf___RS_LB 2949.JPG', '00b1f292-23dd-44d4-aad3-c1ffb6a6ad5a___RS_LB 4479.JPG']\n",
      "1000\n",
      "['001187a0-57ab-4329-baff-e7246a9edeb0___RS_Early.B 8178.JPG', '002a55fb-7a3d-4a3a-aca8-ce2d5ebc6925___RS_Early.B 8170.JPG', '009c8c31-f22d-4ffd-8f16-189c6f06c577___RS_Early.B 7885.JPG', '00d8f10f-5038-4e0f-bb58-0b885ddc0cc5___RS_Early.B 8722.JPG', '0182e991-97f0-4805-a1f7-6e1b4306d518___RS_Early.B 7015.JPG']\n",
      "152\n",
      "['00fc2ee5-729f-4757-8aeb-65c3355874f2___RS_HL 1864.JPG', '03da9931-e514-4cc7-b04a-8f474a133ce5___RS_HL 1830.JPG', '04481ca2-f94c-457e-b785-1ac05800b7ec___RS_HL 1930.JPG', '046641c1-f837-49eb-b5f2-4109910a027c___RS_HL 1878.JPG', '07dfb451-4378-49d1-b699-33a5fc49ff07___RS_HL 5399.JPG']\n"
     ]
    }
   ],
   "source": [
    "print(os.listdir(\"plantvillage\"))\n",
    "\n",
    "\n",
    "print(len(os.listdir(r\"C:\\Users\\manab\\Downloads\\DEEP LEARNING PROJECTS\\PlantVillage\\Potato___Late_blight\")))\n",
    "print(os.listdir(r\"C:\\Users\\manab\\Downloads\\DEEP LEARNING PROJECTS\\PlantVillage\\Potato___Late_blight\")[:5])\n",
    "\n",
    "print(len(os.listdir(r\"C:\\Users\\manab\\Downloads\\DEEP LEARNING PROJECTS\\PlantVillage\\Potato___Early_blight\")))\n",
    "print(os.listdir(r\"C:\\Users\\manab\\Downloads\\DEEP LEARNING PROJECTS\\PlantVillage\\Potato___Early_blight\")[:5])\n",
    "\n",
    "print(len(os.listdir(r\"C:\\Users\\manab\\Downloads\\DEEP LEARNING PROJECTS\\PlantVillage\\Potato___healthy\")))\n",
    "print(os.listdir(r\"C:\\Users\\manab\\Downloads\\DEEP LEARNING PROJECTS\\PlantVillage\\Potato___healthy\")[:5])\n",
    "     "
   ]
  },
  {
   "cell_type": "code",
   "execution_count": null,
   "id": "f547ed13",
   "metadata": {},
   "outputs": [],
   "source": []
  }
 ],
 "metadata": {
  "kernelspec": {
   "display_name": "Python 3 (ipykernel)",
   "language": "python",
   "name": "python3"
  },
  "language_info": {
   "codemirror_mode": {
    "name": "ipython",
    "version": 3
   },
   "file_extension": ".py",
   "mimetype": "text/x-python",
   "name": "python",
   "nbconvert_exporter": "python",
   "pygments_lexer": "ipython3",
   "version": "3.9.12"
  }
 },
 "nbformat": 4,
 "nbformat_minor": 5
}
