{
 "cells": [
  {
   "cell_type": "code",
   "execution_count": 1,
   "id": "599f0248",
   "metadata": {},
   "outputs": [],
   "source": [
    "import os"
   ]
  },
  {
   "cell_type": "code",
   "execution_count": 2,
   "id": "4135709d",
   "metadata": {},
   "outputs": [
    {
     "name": "stderr",
     "output_type": "stream",
     "text": [
      "C:\\anaconda\\lib\\site-packages\\scipy\\__init__.py:146: UserWarning: A NumPy version >=1.16.5 and <1.23.0 is required for this version of SciPy (detected version 1.26.2\n",
      "  warnings.warn(f\"A NumPy version >={np_minversion} and <{np_maxversion}\"\n"
     ]
    },
    {
     "name": "stdout",
     "output_type": "stream",
     "text": [
      "WARNING:tensorflow:From C:\\anaconda\\lib\\site-packages\\keras\\src\\losses.py:2976: The name tf.losses.sparse_softmax_cross_entropy is deprecated. Please use tf.compat.v1.losses.sparse_softmax_cross_entropy instead.\n",
      "\n"
     ]
    }
   ],
   "source": [
    "import tensorflow as tf"
   ]
  },
  {
   "cell_type": "code",
   "execution_count": 3,
   "id": "a1405b88",
   "metadata": {},
   "outputs": [],
   "source": [
    "dataset_directory=r\"C:\\Users\\manab\\Downloads\\horse-or-human\""
   ]
  },
  {
   "cell_type": "code",
   "execution_count": 4,
   "id": "66f79c17",
   "metadata": {},
   "outputs": [],
   "source": [
    "train_horse_dir = os.path.join(dataset_directory,'horses' )\n",
    "train_human_dir = os.path.join(dataset_directory,'humans' )"
   ]
  },
  {
   "cell_type": "code",
   "execution_count": 5,
   "id": "cebaaeb2",
   "metadata": {},
   "outputs": [
    {
     "name": "stdout",
     "output_type": "stream",
     "text": [
      "['horse01-0.png', 'horse01-1.png', 'horse01-2.png', 'horse01-3.png', 'horse01-4.png', 'horse01-5.png', 'horse01-6.png', 'horse01-7.png', 'horse01-8.png', 'horse01-9.png']\n",
      "['human01-00.png', 'human01-01.png', 'human01-02.png', 'human01-03.png', 'human01-04.png', 'human01-05.png', 'human01-06.png', 'human01-07.png', 'human01-08.png', 'human01-09.png']\n"
     ]
    }
   ],
   "source": [
    "train_horse_names = os.listdir(train_horse_dir)\n",
    "print(train_horse_names[:10])\n",
    "\n",
    "train_human_names = os.listdir(train_human_dir)\n",
    "print(train_human_names[:10])"
   ]
  },
  {
   "cell_type": "code",
   "execution_count": 6,
   "id": "f6b82305",
   "metadata": {},
   "outputs": [
    {
     "name": "stdout",
     "output_type": "stream",
     "text": [
      "WARNING:tensorflow:From C:\\anaconda\\lib\\site-packages\\keras\\src\\backend.py:873: The name tf.get_default_graph is deprecated. Please use tf.compat.v1.get_default_graph instead.\n",
      "\n",
      "WARNING:tensorflow:From C:\\anaconda\\lib\\site-packages\\keras\\src\\layers\\pooling\\max_pooling2d.py:161: The name tf.nn.max_pool is deprecated. Please use tf.nn.max_pool2d instead.\n",
      "\n"
     ]
    }
   ],
   "source": [
    "model=tf.keras.models.Sequential([\n",
    "    # Note the input shape is the desired size of the image 300x300 with 3 bytes color\n",
    "    # This is the first Convolution\n",
    "    tf.keras.layers.Conv2D(16,(3,3),activation='relu', input_shape=(300,300,3)),\n",
    "    tf.keras.layers.MaxPooling2D(2,2),\n",
    "    # The second Convolution\n",
    "    tf.keras.layers.Conv2D(32,(3,3),activation='relu'),\n",
    "    tf.keras.layers.MaxPooling2D(2,2),\n",
    "    # The THIRD Convolution\n",
    "    tf.keras.layers.Conv2D(64,(3,3),activation='relu'),\n",
    "    tf.keras.layers.MaxPooling2D(2,2),\n",
    "    # THE FOURTH CONVOLUTION\n",
    "    tf.keras.layers.Conv2D(64,(3,3),activation='relu'),\n",
    "    tf.keras.layers.MaxPooling2D(2,2),\n",
    "    # THE FIFTH CONVOLUTION\n",
    "    tf.keras.layers.Conv2D(64,(3,3),activation='relu'),\n",
    "    tf.keras.layers.MaxPooling2D(2,2),\n",
    "    # fLATTEN THE RESULT TO FEED INTO A DNN\n",
    "    tf.keras.layers.Flatten(),\n",
    "    tf.keras.layers.Dropout(0.5),\n",
    "    # 512 Neuron Hidden Lyers\n",
    "    tf.keras.layers.Dense(512,activation='relu'),\n",
    "    # Only one output neuron,it will value from 0-1 where 0bfor HORSE and 1 for HUMAN\n",
    "    tf.keras.layers.Dense(1,activation='sigmoid')\n",
    "])"
   ]
  },
  {
   "cell_type": "code",
   "execution_count": 7,
   "id": "8682709c",
   "metadata": {},
   "outputs": [
    {
     "name": "stdout",
     "output_type": "stream",
     "text": [
      "Model: \"sequential\"\n",
      "_________________________________________________________________\n",
      " Layer (type)                Output Shape              Param #   \n",
      "=================================================================\n",
      " conv2d (Conv2D)             (None, 298, 298, 16)      448       \n",
      "                                                                 \n",
      " max_pooling2d (MaxPooling2  (None, 149, 149, 16)      0         \n",
      " D)                                                              \n",
      "                                                                 \n",
      " conv2d_1 (Conv2D)           (None, 147, 147, 32)      4640      \n",
      "                                                                 \n",
      " max_pooling2d_1 (MaxPoolin  (None, 73, 73, 32)        0         \n",
      " g2D)                                                            \n",
      "                                                                 \n",
      " conv2d_2 (Conv2D)           (None, 71, 71, 64)        18496     \n",
      "                                                                 \n",
      " max_pooling2d_2 (MaxPoolin  (None, 35, 35, 64)        0         \n",
      " g2D)                                                            \n",
      "                                                                 \n",
      " conv2d_3 (Conv2D)           (None, 33, 33, 64)        36928     \n",
      "                                                                 \n",
      " max_pooling2d_3 (MaxPoolin  (None, 16, 16, 64)        0         \n",
      " g2D)                                                            \n",
      "                                                                 \n",
      " conv2d_4 (Conv2D)           (None, 14, 14, 64)        36928     \n",
      "                                                                 \n",
      " max_pooling2d_4 (MaxPoolin  (None, 7, 7, 64)          0         \n",
      " g2D)                                                            \n",
      "                                                                 \n",
      " flatten (Flatten)           (None, 3136)              0         \n",
      "                                                                 \n",
      " dropout (Dropout)           (None, 3136)              0         \n",
      "                                                                 \n",
      " dense (Dense)               (None, 512)               1606144   \n",
      "                                                                 \n",
      " dense_1 (Dense)             (None, 1)                 513       \n",
      "                                                                 \n",
      "=================================================================\n",
      "Total params: 1704097 (6.50 MB)\n",
      "Trainable params: 1704097 (6.50 MB)\n",
      "Non-trainable params: 0 (0.00 Byte)\n",
      "_________________________________________________________________\n"
     ]
    }
   ],
   "source": [
    "model.summary()"
   ]
  },
  {
   "cell_type": "code",
   "execution_count": 8,
   "id": "7ff7b080",
   "metadata": {},
   "outputs": [],
   "source": [
    "from tensorflow.keras.optimizers import RMSprop\n",
    "\n",
    "model.compile(loss='binary_crossentropy',\n",
    "             optimizer=RMSprop(learning_rate=0.001),\n",
    "             metrics=['accuracy'])"
   ]
  },
  {
   "cell_type": "code",
   "execution_count": 9,
   "id": "9aa7aebd",
   "metadata": {},
   "outputs": [
    {
     "name": "stdout",
     "output_type": "stream",
     "text": [
      "Found 1027 images belonging to 2 classes.\n"
     ]
    }
   ],
   "source": [
    "from tensorflow.keras.preprocessing.image import ImageDataGenerator\n",
    "\n",
    "#All image will be rescale by 1/255\n",
    "train_datagen=ImageDataGenerator(rescale=1/255)\n",
    "# flow training images in batches of 128 using train_datagen generator\n",
    "train_generator=train_datagen.flow_from_directory(\n",
    "r\"C:\\Users\\manab\\Downloads\\horse-or-human\",\n",
    "target_size=(300,300),\n",
    "batch_size=128,\n",
    "class_mode='binary')"
   ]
  },
  {
   "cell_type": "code",
   "execution_count": 14,
   "id": "2f01016d",
   "metadata": {},
   "outputs": [
    {
     "name": "stdout",
     "output_type": "stream",
     "text": [
      "Epoch 1/15\n",
      "WARNING:tensorflow:From C:\\anaconda\\lib\\site-packages\\keras\\src\\utils\\tf_utils.py:492: The name tf.ragged.RaggedTensorValue is deprecated. Please use tf.compat.v1.ragged.RaggedTensorValue instead.\n",
      "\n",
      "WARNING:tensorflow:From C:\\anaconda\\lib\\site-packages\\keras\\src\\engine\\base_layer_utils.py:384: The name tf.executing_eagerly_outside_functions is deprecated. Please use tf.compat.v1.executing_eagerly_outside_functions instead.\n",
      "\n",
      "8/8 [==============================] - 103s 13s/step - loss: 0.7599 - accuracy: 0.5239\n",
      "Epoch 2/15\n",
      "8/8 [==============================] - 21s 3s/step - loss: 0.6753 - accuracy: 0.6730\n",
      "Epoch 3/15\n",
      "8/8 [==============================] - 13s 2s/step - loss: 0.8170 - accuracy: 0.6051\n",
      "Epoch 4/15\n",
      "8/8 [==============================] - 14s 2s/step - loss: 0.6850 - accuracy: 0.5862\n",
      "Epoch 5/15\n",
      "8/8 [==============================] - 14s 2s/step - loss: 0.5131 - accuracy: 0.7731\n",
      "Epoch 6/15\n",
      "8/8 [==============================] - 22s 3s/step - loss: 0.4966 - accuracy: 0.8209\n",
      "Epoch 7/15\n",
      "8/8 [==============================] - 14s 2s/step - loss: 0.5316 - accuracy: 0.8398\n",
      "Epoch 8/15\n",
      "8/8 [==============================] - 14s 2s/step - loss: 0.1874 - accuracy: 0.9199\n",
      "Epoch 9/15\n",
      "8/8 [==============================] - 14s 2s/step - loss: 0.1608 - accuracy: 0.9399\n",
      "Epoch 10/15\n",
      "8/8 [==============================] - 14s 2s/step - loss: 0.1178 - accuracy: 0.9533\n",
      "Epoch 11/15\n",
      "8/8 [==============================] - 15s 2s/step - loss: 0.2955 - accuracy: 0.9010\n",
      "Epoch 12/15\n",
      "8/8 [==============================] - 14s 2s/step - loss: 0.0548 - accuracy: 0.9844\n",
      "Epoch 13/15\n",
      "8/8 [==============================] - 14s 2s/step - loss: 0.0423 - accuracy: 0.9822\n",
      "Epoch 14/15\n",
      "8/8 [==============================] - 14s 2s/step - loss: 0.0538 - accuracy: 0.9778\n",
      "Epoch 15/15\n",
      "8/8 [==============================] - 14s 2s/step - loss: 0.0565 - accuracy: 0.9778\n"
     ]
    }
   ],
   "source": [
    "history=model.fit(\n",
    "train_generator,\n",
    "steps_per_epoch=8,\n",
    "epochs=15,\n",
    "verbose=1)"
   ]
  },
  {
   "cell_type": "code",
   "execution_count": 17,
   "id": "df468b57",
   "metadata": {},
   "outputs": [
    {
     "data": {
      "application/vnd.jupyter.widget-view+json": {
       "model_id": "ec9b843b88df4e49b4a50d9826845a73",
       "version_major": 2,
       "version_minor": 0
      },
      "text/plain": [
       "FileUpload(value={}, description='Upload')"
      ]
     },
     "metadata": {},
     "output_type": "display_data"
    },
    {
     "name": "stdout",
     "output_type": "stream",
     "text": [
      "1/1 [==============================] - 0s 36ms/step\n",
      "[0.]\n",
      "The uploaded image is a horse.\n"
     ]
    }
   ],
   "source": [
    "import numpy as np\n",
    "import io\n",
    "import ipywidgets as widgets\n",
    "from IPython.display import display\n",
    "from PIL import Image\n",
    "from tensorflow.keras.preprocessing import image\n",
    "\n",
    "\n",
    "\n",
    "import fileupload\n",
    "\n",
    "def on_upload_change(change):\n",
    "    # Get the uploaded file\n",
    "    uploaded_file = list(file_upload.value.values())[0]\n",
    "    content = uploaded_file['content']\n",
    "    \n",
    "    # Process the content as needed\n",
    "    img = Image.open(io.BytesIO(content))\n",
    "    img = img.resize((300, 300))\n",
    "    \n",
    "    # Convert image to array\n",
    "    x = image.img_to_array(img)\n",
    "    x = np.expand_dims(x, axis=0)\n",
    "\n",
    "    images = np.vstack([x])\n",
    "    classes = model.predict(images, batch_size=10)\n",
    "    print(classes[0])\n",
    "    \n",
    "    if classes[0] > 0.5:\n",
    "        print(\"The uploaded image is a human.\")\n",
    "    else:\n",
    "        print(\"The uploaded image is a horse.\")\n",
    "\n",
    "# Create a file upload widget\n",
    "file_upload = widgets.FileUpload()\n",
    "file_upload.observe(on_upload_change, names='value')\n",
    "\n",
    "# Display the file upload widget\n",
    "display(file_upload)"
   ]
  },
  {
   "cell_type": "code",
   "execution_count": null,
   "id": "c805a2a6",
   "metadata": {},
   "outputs": [],
   "source": []
  }
 ],
 "metadata": {
  "kernelspec": {
   "display_name": "Python 3 (ipykernel)",
   "language": "python",
   "name": "python3"
  },
  "language_info": {
   "codemirror_mode": {
    "name": "ipython",
    "version": 3
   },
   "file_extension": ".py",
   "mimetype": "text/x-python",
   "name": "python",
   "nbconvert_exporter": "python",
   "pygments_lexer": "ipython3",
   "version": "3.9.12"
  }
 },
 "nbformat": 4,
 "nbformat_minor": 5
}
